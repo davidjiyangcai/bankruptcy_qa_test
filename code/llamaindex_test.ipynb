{
 "cells": [
  {
   "cell_type": "code",
   "execution_count": 1,
   "metadata": {},
   "outputs": [],
   "source": [
    "import os\n",
    "import openai\n",
    "\n",
    "import logging\n",
    "import sys\n",
    "from pprint import pprint"
   ]
  },
  {
   "cell_type": "code",
   "execution_count": 2,
   "metadata": {},
   "outputs": [],
   "source": [
    "logging.basicConfig(stream=sys.stdout, level=logging.INFO)\n",
    "logging.getLogger().addHandler(logging.StreamHandler(stream=sys.stdout))\n",
    "\n",
    "from llama_index.core import (\n",
    "    VectorStoreIndex,\n",
    "    SimpleDirectoryReader,\n",
    "    load_index_from_storage,\n",
    "    StorageContext,\n",
    "    ServiceContext,\n",
    "    Document\n",
    ")\n",
    "\n",
    "from llama_index.llms.openai import OpenAI\n",
    "from llama_index.core.node_parser import SentenceWindowNodeParser, HierarchicalNodeParser, get_leaf_nodes\n",
    "from llama_index.core.text_splitter import SentenceSplitter\n",
    "from llama_index.embeddings.openai import OpenAIEmbedding\n",
    "from llama_index.core.schema import MetadataMode\n",
    "from llama_index.core.postprocessor import MetadataReplacementPostProcessor\n",
    "from llama_index.core import Settings\n"
   ]
  },
  {
   "cell_type": "code",
   "execution_count": 3,
   "metadata": {},
   "outputs": [],
   "source": [
    "openai.api_key = os.environ['OPENAI_API_KEY']"
   ]
  },
  {
   "cell_type": "code",
   "execution_count": 4,
   "metadata": {},
   "outputs": [],
   "source": [
    "# load PDFs\n",
    "documents = SimpleDirectoryReader(\"../data/bankruptcy_dockets/documents/Sequential Brands Group\").load_data()"
   ]
  },
  {
   "cell_type": "code",
   "execution_count": 5,
   "metadata": {},
   "outputs": [],
   "source": [
    "# split into nodes\n",
    "sentence_node_parser = SentenceSplitter(\n",
    "    chunk_size=512,\n",
    "    chunk_overlap=20,\n",
    ")"
   ]
  },
  {
   "cell_type": "code",
   "execution_count": 6,
   "metadata": {},
   "outputs": [],
   "source": [
    "nodes = sentence_node_parser.get_nodes_from_documents(documents)"
   ]
  },
  {
   "cell_type": "code",
   "execution_count": 7,
   "metadata": {},
   "outputs": [],
   "source": [
    "Settings.embed_model = OpenAIEmbedding(\n",
    "    model=\"text-embedding-3-small\", embed_batch_size=100\n",
    ")"
   ]
  },
  {
   "cell_type": "code",
   "execution_count": 8,
   "metadata": {},
   "outputs": [],
   "source": [
    "# create index and embed nodes"
   ]
  },
  {
   "cell_type": "code",
   "execution_count": 9,
   "metadata": {},
   "outputs": [
    {
     "name": "stdout",
     "output_type": "stream",
     "text": [
      "INFO:httpx:HTTP Request: POST https://api.openai.com/v1/embeddings \"HTTP/1.1 200 OK\"\n",
      "HTTP Request: POST https://api.openai.com/v1/embeddings \"HTTP/1.1 200 OK\"\n",
      "INFO:httpx:HTTP Request: POST https://api.openai.com/v1/embeddings \"HTTP/1.1 200 OK\"\n",
      "HTTP Request: POST https://api.openai.com/v1/embeddings \"HTTP/1.1 200 OK\"\n",
      "INFO:httpx:HTTP Request: POST https://api.openai.com/v1/embeddings \"HTTP/1.1 200 OK\"\n",
      "HTTP Request: POST https://api.openai.com/v1/embeddings \"HTTP/1.1 200 OK\"\n",
      "INFO:httpx:HTTP Request: POST https://api.openai.com/v1/embeddings \"HTTP/1.1 200 OK\"\n",
      "HTTP Request: POST https://api.openai.com/v1/embeddings \"HTTP/1.1 200 OK\"\n",
      "INFO:httpx:HTTP Request: POST https://api.openai.com/v1/embeddings \"HTTP/1.1 200 OK\"\n",
      "HTTP Request: POST https://api.openai.com/v1/embeddings \"HTTP/1.1 200 OK\"\n",
      "INFO:httpx:HTTP Request: POST https://api.openai.com/v1/embeddings \"HTTP/1.1 200 OK\"\n",
      "HTTP Request: POST https://api.openai.com/v1/embeddings \"HTTP/1.1 200 OK\"\n",
      "INFO:httpx:HTTP Request: POST https://api.openai.com/v1/embeddings \"HTTP/1.1 200 OK\"\n",
      "HTTP Request: POST https://api.openai.com/v1/embeddings \"HTTP/1.1 200 OK\"\n",
      "INFO:httpx:HTTP Request: POST https://api.openai.com/v1/embeddings \"HTTP/1.1 200 OK\"\n",
      "HTTP Request: POST https://api.openai.com/v1/embeddings \"HTTP/1.1 200 OK\"\n",
      "INFO:httpx:HTTP Request: POST https://api.openai.com/v1/embeddings \"HTTP/1.1 200 OK\"\n",
      "HTTP Request: POST https://api.openai.com/v1/embeddings \"HTTP/1.1 200 OK\"\n"
     ]
    }
   ],
   "source": [
    "index = VectorStoreIndex(nodes)"
   ]
  },
  {
   "cell_type": "code",
   "execution_count": 10,
   "metadata": {},
   "outputs": [],
   "source": [
    "# store the index and embeddings\n",
    "index.storage_context.persist(persist_dir=\"../persist\")"
   ]
  },
  {
   "cell_type": "code",
   "execution_count": 11,
   "metadata": {},
   "outputs": [
    {
     "name": "stdout",
     "output_type": "stream",
     "text": [
      "INFO:llama_index.core.indices.loading:Loading all indices.\n",
      "Loading all indices.\n"
     ]
    }
   ],
   "source": [
    "#load stored index\n",
    "stored_index = StorageContext.from_defaults(persist_dir=\"../persist\")\n",
    "retrieved_index = load_index_from_storage(stored_index)"
   ]
  },
  {
   "cell_type": "code",
   "execution_count": 12,
   "metadata": {},
   "outputs": [],
   "source": [
    "from llama_index.core.postprocessor import MetadataReplacementPostProcessor\n",
    "sentence_query_engine = retrieved_index.as_query_engine(\n",
    "    similarity_top_k=5,\n",
    "    verbose=True\n",
    ")"
   ]
  },
  {
   "cell_type": "code",
   "execution_count": 13,
   "metadata": {},
   "outputs": [],
   "source": [
    "from llama_index.core import get_response_synthesizer\n",
    "from llama_index.core.retrievers import VectorIndexRetriever\n",
    "from llama_index.core.query_engine import RetrieverQueryEngine"
   ]
  },
  {
   "cell_type": "code",
   "execution_count": 14,
   "metadata": {},
   "outputs": [],
   "source": [
    "llm = OpenAI(model=\"gpt-4o\")"
   ]
  },
  {
   "cell_type": "code",
   "execution_count": 15,
   "metadata": {},
   "outputs": [],
   "source": [
    "Settings.llm = llm"
   ]
  },
  {
   "cell_type": "code",
   "execution_count": 16,
   "metadata": {},
   "outputs": [],
   "source": [
    "# configure retriever\n",
    "retriever = VectorIndexRetriever(\n",
    "    index=retrieved_index,\n",
    "    similarity_top_k=5,\n",
    ")\n",
    "\n",
    "# configure response synthesizer\n",
    "response_synthesizer = get_response_synthesizer(\n",
    "    response_mode=\"tree_summarize\",\n",
    ")\n",
    "\n",
    "# assemble query engine\n",
    "query_engine = RetrieverQueryEngine(\n",
    "    retriever=retriever,\n",
    "    response_synthesizer=response_synthesizer,\n",
    ")"
   ]
  },
  {
   "cell_type": "code",
   "execution_count": 17,
   "metadata": {},
   "outputs": [],
   "source": [
    "from question import return_question"
   ]
  },
  {
   "cell_type": "code",
   "execution_count": 18,
   "metadata": {},
   "outputs": [],
   "source": [
    "questions = return_question()"
   ]
  },
  {
   "cell_type": "code",
   "execution_count": 63,
   "metadata": {},
   "outputs": [],
   "source": [
    "def generate_question(item):\n",
    "    varname,description = item\n",
    "    # this function generates the question that we want to ask the model\n",
    "    question_prompt = f\"\"\"\n",
    "    You are a helpful legal assistant.\n",
    "    Given the following variable: {varname}, which is described here: {description}, what is the value of the variable?\n",
    "    \"\"\"\n",
    "    return question_prompt\n"
   ]
  },
  {
   "cell_type": "code",
   "execution_count": 64,
   "metadata": {},
   "outputs": [
    {
     "data": {
      "text/plain": [
       "[('NameCorp',\n",
       "  'The name of the 10-K filing company. If the 10-K filing company did not file bankruptcy, add the name of the principal filing\\nsubsidiary in parentheses, followed by “only.” If more than one 10-K filing\\ncompany is administratively consolidated in the same bankruptcy case, add\\nthe names of the additional 10-K filers in parentheses, not followed by\\n“only.” If the company has filed bankruptcy more than once, add the year of\\nthis bankruptcy filing in parentheses. Remove apostrophes from names.\\nAccess will tolerate apostrophes, but the WebBRD will not. If a company\\nname contains an apostrophe, the company’s date will not appear in View\\ndata by company.'),\n",
       " ('AssetsPetition',\n",
       "  'Total assets of the debtors, as indicated on “Exhibit A” to\\nthe petition, in millions of dollars. The SEC requires that companies file\\nExhibit A if they remain public as of filing. If the Exhibit A amount listed\\ndiffers substantially from AssetsBefore, we investigate whether the amount\\nlisted is for only the petitioning corporation or for the entire consolidated\\ngroup. If the amount is for the consolidate group, we use it. If the amount is\\nfor only the petitioning corporation, we investigate whether the total\\namounts listed on Exhibit A for all filers in the group indicate the aggregate\\nassets of the group. If they do, we use the total. If an amount is not available\\nfrom either source, we use the best amount available from (1) the first monthly \\noperating report filed for the group in the bankruptcy case, (2) the\\nfirst 10-K or 10-Q filed with the SEC during the bankruptcy case, or (3) the\\ndebtors’ schedules. For data entered prior to August 2004, we accepted\\namounts from several sources. First, for cases filed in the 1980s, we\\naccepted the amount stated in on a list of bankruptcy cases maintained by\\nthe SEC. When the SEC shows a different amount on a later list, we used\\nthe later amount. Second, we accepted the assets at filing reported in\\nreputable publications. Third, in a few cases, we used data from the\\nschedules filed with the court. Most of the AssetsPetition data were\\ncollected for both older and newer cases were collected beginning in August\\n2004. That month we adopted these new protocols: (1) We do not use\\nExhibit A amounts that appear not to be consolidated. (2) We will use\\namounts that appeared on Exhibit A, if available. (3) If an Exhibit A amount\\nis not available, we will use the next best source among the following –\\nschedules or monthly operating reports filed in the case; balance sheets filed\\nwith the SEC during the case. \\n'),\n",
       " ('CeoFiling',\n",
       "  'The name of the debtor’s chief executive officer at filing. If no\\nperson holds the chief executive officer title at filing, enter the name of the\\nhighest officer, followed by a comma and the name of the office held. E.g.,\\n“Samuel Wilson, president.” If no one is CEO, but someone is acting CEO,\\nenter the name followed by “acting CEO”. A person is CEO during a period\\nwhen the person is co-CEO. If only one person qualifies as CEO on the\\nDateFiled, that is the one we use. If two qualify on the DateFiled, we use\\nthe new one if he is on the petition or making a statement or doing\\nsomething as CEO by the moment of filing. If the new CEO is in office on\\nthe DateFiled but there is no information regarding activity from either the\\nnew or old CEO on the DateFiled, use the new CEO. '),\n",
       " ('CityFiled',\n",
       "  'The city in which the case was filed. The city will always be a\\ncity in which court meets and nearly always a city in which there is a clerk’s\\noffice. If you have a district, but not a court city, run searches that combine\\nthe name of the debtor with each of the court cities in the district to find\\nstatements linking the case to a court city.\\n'),\n",
       " ('ClaimsUnsec',\n",
       "  '\\nThe total amount, in millions of dollars, of non-priority\\nunsecured claims, as indicated in the disclosure statement and compiled on\\nthe Distribution Spreadsheet. If the disclosure statement information is\\ninadequate, we also consider the information on the schedules. Unsecured\\nclaims include the claims of unsecured general creditors, unsecured senior\\nclasses, unsecured junior classes, and the unsecured portions of secured\\ncreditors’ claims if the unsecured portion is separately classified and\\ntreated. Unsecured claims do not include claims entitled to priority under\\nBankruptcy Code §507(a) (priority claims) or claims that are subordinated\\nunder Bankruptcy Code 510(b) (sale-of-securities claims). Unsecured\\nclaims do not include intercompany claim classes. We report an amount for\\nunsecured claims only if the disclosure statement provides the amount of\\nunsecured claims for all substantial unsecured classes. If the estimated\\nclaims in a class are stated as a range, use the midpoint of the range. If the\\nestimated claims are stated as “less than” a stated amount, use the stated\\namount. If the debtor states that claims are unlikely to be allowed, we\\naccept the debtor’s statement. If claims are disputed and the parties fix the \\namount of the claims by settlement, we use the settlement amount. If the\\nparties fix only the distribution by settlement and the information is\\navailable to do so, we may impute the amount of the claims from the\\nsettlement. For example, if the disputed unsecured claim is $10 million,\\nthe settlement is for $1 million, and the other unsecured creditors are getting\\n50 cents on the dollar, we may infer that the parties agreed that the\\nunsecured claim was $2 million.\\n'),\n",
       " ('CommCred',\n",
       "  '\\nWas an official committee appointed to represent the\\nunsecured creditors prior to case disposition? Yes/no. The best evidence is a\\ncopy of the appointment. Committees appointed to represent particular\\nsubgroups of creditors, such as a particular group of bondholders, are not\\ncreditors’ committees. In some older cases, if the disclosure statement\\nindicates that no unsecured creditors’ committee had been appointed we\\nassumed that none was appointed prior to confirmation. In Refco Finance,\\nInc., the creditors’ committee bifurcated. We recorded counsel for the\\noriginal committee and treated the second committee as an “additional\\ncommittee.” In Envirodyne Industries Inc., two official committees were\\nappointed to represent Trade Creditors and Bondholders. We considered\\nthese to be subgroups and excluded them both. If the case was dismissed\\nbefore the order for relief, enter “no order for relief.” Other options are\\n“Chapter 7 at filing” and “case not disposed.”\\n'),\n",
       " ('CommCredAtty',\n",
       "  '\\nCommCredAttyCol, resolved to a single “lead” and\\nemploying the most recent name for a firm that has changed its name. A\\nfirm is lead if it is described as “counsel” or “attorney” while the competing\\nfirm is described as “co-counsel.” When there is doubt about which firm is\\nlead, we examine the available fee information to determine which firm was\\ndominant early in the case. Ultimately, we make a judgment, using\\nhindsight, to determine which firm was probably lead at the time the representations\\nbegan. Enter “none” if there is no evidence of an attorney\\nhired to represent the committee.”\\n'),\n",
       " ('CommEquity',\n",
       "  '\\nWas an official committee appointed prior to confirmation\\nto represent the common stock? “Yes,” “no,” “denied,” or “motion\\nwithdrawn.” “Denied” means that the court entered an order denying the\\nrequest for a committee. “Motion withdrawn” means that all persons\\nrequesting the committee withdrew their requests. In some older cases, if\\nthe disclosure statement indicates that no equity committee had been\\nappointed we assumed that none was appointed prior to confirmation. If the\\ncase was dismissed before the order for relief, enter “no order for relief.”\\nOther options are “Chapter 7 at filing” and “case not disposed.” \\n'),\n",
       " ('CommEquityAtty',\n",
       "  '\\nCommEquityAttyCol, resolved to a single “lead” and\\nemploying the most recent name for a firm that has changed its name. A\\nfirm is lead if it is described as Acounsel” or Aattorney” while the\\ncompeting firm is described as “co-counsel.” When there is doubt about\\nwhich firm is lead, we examine the available fee information to determine\\nwhich firm was dominant early in the case. Ultimately, we make a\\njudgment, using hindsight, to determine which firm was probably lead at the\\ntime the representations began. Enter Anone” if there is no evidence of an\\nattorney hired to represent the committee” \\n'),\n",
       " ('DateFiled',\n",
       "  \"\\nThe month, day, and year the bankruptcy case was filed. If the\\nconsolidated case involved more than one filing, the date of the first filing.\\nPrior to Pacer, we may have collected DateFiled from BANKRUPTCY\\nYEARBOOK, BDS, 10-Ks, Moody's, reported opinions, searches of\\nnewspapers. \\n\"),\n",
       " ('DipAtty',\n",
       "  '\\nDebtor-in-possession (DIP) attorney resolved. This name\\nidentifies the lead counsel who represented the DIP in filing of the\\nbankruptcy case. “Lead” means that this firm was not merely conflicts,\\nspecial, foreign, or local counsel. The “Res” suffix indicates that the field has\\nbeen compiled from several other fields. We collected the full names of the\\nlaw firms from different sources in other fields and then compiled this field\\nby using the best information available. We treat the Board of Directors\\nresolution at filing as determinative of lead status. But if that document\\nidentified two firms as co-counsel without identifying one as lead counsel,\\nwe resolved the issue from other sources. We resolved based on our\\ndetermination of which of the two firms was dominant in the case. We\\nconsidered a firm identified as \"Delaware co-counsel\" to be local counsel.\\nFirms that have changed their names over time are identified by their most\\nrecent names. We simplified firm names by shortening them to no more\\nthan two words and removing punctuation. Data are drawn from the\\n1980-86 LoPucki-Whitford study, 1997 LoPucki Survey, dockets, disclosure\\nstatements and applications to employ. We used other sources when\\ndirector resolutions and applications to employ were not available. The\\nother sources included news stories. \\n'),\n",
       " ('Disposition',\n",
       "  '\\nThis field indicates the disposition of the bankruptcy cases.\\nChapter 7 cases are “Chapter 7 at filing.” The primary dispositions of\\nChapter 11 cases are “confirmed,” “dismissed,” or “converted.” Cases not\\nyet disposed of by one of those methods are “pending.” “no data” indicates\\nthat the case is no longer pending, but we do not know the disposition. If\\nplans are confirmed for some, but not all, debtors, we record data for the\\nlargest or most important debtors. If the plan is contingent on the entry of\\ntwo confirmation orders (one by the bankruptcy court, one by the district\\ncourt), the plan is confirmed only upon entry of the second.\\n'),\n",
       " ('DistFiled',\n",
       "  '\\nThe two letter abbreviation for the state in which the bankruptcy\\ncase was filed and, if the state is divided into districts, a space followed by\\nthe two letter abbreviation for the district. For example, “NY SD.”\\n'),\n",
       " ('DistribEquity',\n",
       "  '\\nDollar value, NOT in millions, as of the effective date of the\\nplan, of the distributions to equity holders. Equity holders include the\\nholders of common and preferred stock. They do not include the holders of\\nintercompany stock. If the estimated distribution includes warrants or\\noptions to buy stock in the emerging company and the disclosure statement\\nprovides no value for them, we count them as having no value. If the\\nestimated distribution is stated as a range, use the midpoint of the range. We\\nreport an amount for distributions to equity only if the disclosure statement\\nreports amounts for all substantial equity classes. \\n'),\n",
       " ('DistribUnsec',\n",
       "  '\\nDollar value, in millions, as of the effective date of the plan,\\nof the distribution to all classes of unsecured claims combined, as indicated\\nin the disclosure statement and compiled on the Distribution Spreadsheet.\\nUnsecured claims are defined in the protocol for ClaimsUnsec. If the\\nestimated distribution includes warrants or options to buy stock in the\\nemerging company and the disclosure statement provides no dollar value for\\nthem, count them as having no value. If the estimated distribution is stated\\nas a range, use the midpoint of the range. If the estimated distribution is\\nstated as “less than” a stated amount, use the stated amount. If the estimated\\ndistribution is a choice between a larger value and a smaller value, use the\\nlarger value. If the estimated distribution is the choice between a cash\\npayment and payment in another medium, use the cash payment. We ignore\\nthe proceeds of a litigation trust if the disclosure statement says it may be\\nzero and no other value is available. We report an amount for unsecured\\nclaims only if the disclosure statement provides the amount of the\\ndistribution for all substantial unsecured classes. \\n'),\n",
       " ('Examiner',\n",
       "  '\\nEnter “yes” if an examiner who was not a fee examiner was\\nappointed under 11 USC §1104, “no” if one was not.. Fee examiners are\\nincluded in FeeReviewer, below. This field was seeded with data from\\nJonathan Lipson, 2010.  \\n'),\n",
       " ('JudgeDisposition',\n",
       "  '\\nThe full name of the bankruptcy judge who entered the \\norder disposing of the Chapter 11 case. That order will be an order\\nconfirming a plan, dismissing the case, or converting the case to Chapter 7.\\nIf a bankruptcy judge and a district judge entered parallel confirmation\\norders, list only the bankruptcy judge. For example, in Owens Corning, a\\nbankruptcy judge and a district judge presided together over the\\nconfirmation hearing and each signed a confirmation order. If a judge\\nsigned orders both before and after disposition, we could not obtain a copy\\nof the disposition order, and we could not otherwise discover who signed\\nthe disposition order, we assumed that the judge who signed the earlier and\\nlater orders signed the disposition order. For Chapter 7 at filing cases,\\nindicate “Chapter 7 at filing.” For cases with “no data” on disposition but\\nwhich have been disposed of, JudgeDisposition is based on the best\\navailable information. For pending cases, this field is blank.\\n'),\n",
       " ('JudgeFiling',\n",
       "  '\\nThe full name of the judge to whom the case was initially\\nassigned. (This may not be the first judge who enters an order in the case,\\nthe judge whose name is listed on the case summary, or the judge whose\\ninitials later appear in the case number.) We ordinarily determine the judge\\nat filing solely from the docket and filed documents at the beginning of the\\ncase. The first of the following is generally sufficient to determine the judge\\nat filing: (1) the docket recites that the case was assigned to the judge, (2)\\nthe judge’s initials are part of the case number on a filed document, (3) the\\njudge is listed on the Case Summary on PACER. Merely holding a hearing\\nor signing an order is not itself sufficient but holding consecutive hearings\\nand signing consecutive orders on two separate occasions is presumptive\\nevidence of the judge at filing. If documents show the case was reassigned\\nfrom one judge to another, the judge from whom the case was reassigned is\\nthe judge at filing even if that judge did not do anything in the case. In the\\nabsence of information from any other source after thorough research and\\nany suggestion to the contrary, we have assumed that in cases prior to\\nPACER that a judge hearing the case as long as three months after filing\\nwas the judge to whom the case was initially assigned. We have\\ndiscontinued making such assumptions for cases filed after November 30,\\n2003.\\n'),\n",
       " ('LiabPetition',\n",
       "  '\\nTotal liabilities of the debtors, as indicated in the source of\\nour data for AssetsPetition. In the event no amount is available from that\\nsource, we will make a decision as to whether the next best source is\\nadequate and amend this protocol accordingly. \\n'),\n",
       " ('Prepackaged',\n",
       "  \"\\nA case is prepackaged if the debtor drafted the plan,\\nsubmitted it to a vote of the impaired classes, and claimed to have obtained\\nthe acceptances necessary for consensual confirmation before filing the\\ncase. The claim must include that no class rejects the plan or the class that\\nrejects is minimal in dollar amount. (Cityscape did not qualify because the\\npreferred B shares rejected the plan – even though the debtor may have\\nclaimed those shares were under water – because the class was not\\nminimal.) Prepackaged cases nearly always are filed solely to modify the\\ncompany's liability on an issue of junk bonds. If the debtor negotiates the\\nplan with at least one major creditor constituency or obtains the acceptance\\nof at least one, enter “prenegotiated” for this field — even if no vote was\\ntaken on the plan. An example would be a plan to sell the debtor’s business,\\nwhich has been drafted and negotiated with a large secured creditor before\\nfiling, but not with trade creditors. We accepted an “agreement in principle”\\nwith 40% of the bondholders to a term sheet. We do not consider having a\\ncontract to sell the business to be a prenegotiation unless the creditors have\\nagreed to the sale. As a result, 363 sales are rarely prenegotiated. The best\\nsource for this field is the 8-K announcing the bankruptcy. That is ordinarily\\nthe only source we check. If the debtor has an agreement, the debtor will\\nusually mention it in the 8-K. If the case was dismissed before the order for\\nrelief or was Chapter 7 at filing, enter “not applicable”\\n\"),\n",
       " ('Sale',\n",
       "  '\\n“yes” if Sale363 is yes or SaleConf is yes. “no” if Sale363 is no and\\nSaleConf is no. If no order for relief was filed, enter “no confirmation.”\\nChapter 7 cases are “Chapter 7 at filing.”\\n'),\n",
       " ('TortCause',\n",
       "  '\\nIf tort debt caused the bankruptcy filing (in the sense that, had\\nthe tort debt not existed, the case would not have been filed) list the type of\\ntort debt. Categories for this field are: products: bankruptcies caused\\nprincipally by product liability claims against the debtor or product recalls\\nby the debtor; fraud: bankruptcies caused principally by fraud claims\\n(include securities fraud claims) against the company. These cases often\\nbegan with financial difficulties from other causes, which were concealed\\nfrom the investors until they were severe enough to cause the bankruptcy;\\npension: bankruptcies caused principally by pension claims against the\\ndebtor, including underfunding claims by the Pension Benefit Guaranty\\nCorporation; environmental: bankruptcies caused principally by\\nenvironmental claims (other than products liability claims) against the\\ndebtor patent: bankruptcies caused principally by patent infringement\\nclaims against the debtor; other tort: bankruptcies caused principally by tort\\nclaims against the debtor that do not fall into any of the categories above;\\nnot tort: bankruptcies not caused principally by claims in any of the\\ncategories above.\\n'),\n",
       " ('Trustee',\n",
       "  '\\nEnter “yes” if an 11 USC §1104 trustee was appointed before\\ndisposition, “no” if not, and “partial” if one was appointed for only some\\ndebtor entities. Indenture trustees, liquidating trustees, and Chapter 7\\ntrustees, are not 1104 trustees. “No hits” in this field means that we\\nsearched a partial docket for the strings “Chapter 11 trustee” or “1104\" and\\n“trustee” and the hits, if any, contain no suggestion that a chapter 11 trustee\\nwas appointed. “Denied” means that the court entered an order denying the\\nrequest for a trustee.\\n'),\n",
       " ('TurnFirm',\n",
       "  '\\nThe firm, if any, that provides the turnaround services. If the\\nturnaround manager’s services were not provided by a firm, indicate\\n“none”. Use the name by which the firm is currently generally known,\\nwhether or not it is the name used in the court file. If more than one firm\\nprovided turnaround services, prefer firms that held one of the offices listed\\nin TurnOffice over firms that did not and between firms tied on the prior\\ncriteria, prefer the first firm employed. The board resolution attached to the\\npetition is the determinative document.\\n'),\n",
       " ('Voluntary',\n",
       "  '\\nA case is \"voluntary\" if it was filed by the debtor, \"involuntary\"\\nif it was filed by creditors. If some entities file voluntarily and others are\\nlater brought in involuntarily, indicate “both.” If the debtor and creditors\\nfile roughly simultaneously, characterize the case by the first to file, even if\\nthat case is dismissed in favor of the other. If the involuntary case is\\ntransferred, so indicate in the Transferred field. If the voluntary and\\ninvoluntary cases are before the same judge and the times they are pending\\noverlap, characterize the case by the first to file, even if that case is\\ndismissed in favor of the other.\\n')]"
      ]
     },
     "execution_count": 64,
     "metadata": {},
     "output_type": "execute_result"
    }
   ],
   "source": [
    "list(questions.items())"
   ]
  },
  {
   "cell_type": "code",
   "execution_count": 73,
   "metadata": {},
   "outputs": [
    {
     "name": "stdout",
     "output_type": "stream",
     "text": [
      "INFO:httpx:HTTP Request: POST https://api.openai.com/v1/embeddings \"HTTP/1.1 200 OK\"\n",
      "HTTP Request: POST https://api.openai.com/v1/embeddings \"HTTP/1.1 200 OK\"\n",
      "INFO:httpx:HTTP Request: POST https://api.openai.com/v1/chat/completions \"HTTP/1.1 200 OK\"\n",
      "HTTP Request: POST https://api.openai.com/v1/chat/completions \"HTTP/1.1 200 OK\"\n"
     ]
    }
   ],
   "source": [
    "response = query_engine.query(generate_question(list(questions.items())[9]))"
   ]
  },
  {
   "cell_type": "code",
   "execution_count": 74,
   "metadata": {},
   "outputs": [
    {
     "name": "stdout",
     "output_type": "stream",
     "text": [
      "The value of the variable DateFiled is August 31, 2021.\n"
     ]
    }
   ],
   "source": [
    "print(response)"
   ]
  },
  {
   "cell_type": "code",
   "execution_count": 85,
   "metadata": {},
   "outputs": [
    {
     "data": {
      "text/plain": [
       "'The value of the variable DateFiled is August 31, 2021.'"
      ]
     },
     "execution_count": 85,
     "metadata": {},
     "output_type": "execute_result"
    }
   ],
   "source": [
    "response.response"
   ]
  },
  {
   "cell_type": "code",
   "execution_count": 75,
   "metadata": {},
   "outputs": [
    {
     "data": {
      "text/plain": [
       "['__annotations__',\n",
       " '__class__',\n",
       " '__dataclass_fields__',\n",
       " '__dataclass_params__',\n",
       " '__delattr__',\n",
       " '__dict__',\n",
       " '__dir__',\n",
       " '__doc__',\n",
       " '__eq__',\n",
       " '__format__',\n",
       " '__ge__',\n",
       " '__get_validators__',\n",
       " '__getattribute__',\n",
       " '__getstate__',\n",
       " '__gt__',\n",
       " '__hash__',\n",
       " '__init__',\n",
       " '__init_subclass__',\n",
       " '__le__',\n",
       " '__lt__',\n",
       " '__match_args__',\n",
       " '__module__',\n",
       " '__ne__',\n",
       " '__new__',\n",
       " '__pydantic_initialised__',\n",
       " '__pydantic_model__',\n",
       " '__pydantic_run_validation__',\n",
       " '__pydantic_validate_values__',\n",
       " '__reduce__',\n",
       " '__reduce_ex__',\n",
       " '__repr__',\n",
       " '__setattr__',\n",
       " '__sizeof__',\n",
       " '__str__',\n",
       " '__subclasshook__',\n",
       " '__validate__',\n",
       " '__weakref__',\n",
       " 'get_formatted_sources',\n",
       " 'metadata',\n",
       " 'response',\n",
       " 'source_nodes']"
      ]
     },
     "execution_count": 75,
     "metadata": {},
     "output_type": "execute_result"
    }
   ],
   "source": [
    "dir(response)"
   ]
  },
  {
   "cell_type": "code",
   "execution_count": 88,
   "metadata": {},
   "outputs": [
    {
     "data": {
      "text/plain": [
       "'American LegalNet, Inc.  \\nwww.FormsWorkFlow.com\\nOfficial Form 201 Voluntary Petition for Non- Individuals Filing for Bankruptcy  page 3 Debtor Sequential Brands Group, Inc. Case number (if known )\\nName \\n9.Were prior bankruptcy cases\\nfiled by or against the debtorwithin the last 8 years?\\nIf more than 2 cases, attach a\\ns\\neparate list. No \\n Yes. District  When  Case number  \\nMM / DD / YYYY  \\nDistrict  When  Case number  \\nMM / DD / YYYY  \\n10. Are any bankruptcy cases\\npending or being filed by a\\nbusiness partner or an\\naffiliate of the debtor?\\nList all cases. If more than 1,\\nattach a separate list. No \\nYes. Debtor  See Schedule 1  Relationship  Affiliates  \\nDistrict  Delaware  When  08/31/2021 \\nMM / DD / YYYY  \\nCase number, if known  \\n11. Why is the case filed in this\\ndistrict ?Check all that apply:\\n Debtor has had its domicile, principal place of business, or principal assets in this district for 180 days  \\nimmediately preceding the date of this petition or for a longer part of such 180 days than in any other district.  \\nA bankruptcy case concerning debtor ’s affiliate, general partner, or partnership is pending in this district.  \\n12.D oes the debtor own or have\\nposses sion of any real\\nproperty or personal property\\nthat needs immediate\\nattention?No \\nYes. Answer below for each property that needs immediate attention. Attach additional sheets if needed.  \\nWhy does the property need immediate attention? (Check all that apply.)  \\n It poses or is alleged to pose a threat of imminent and identifiable hazard to public health or safety.  \\nWhat is the hazard?    \\n It needs to be physically secured or protected from the weather.  \\nIt includes perishable goods or assets that could quickly deteriorate or lose value without \\nattention (for example, livestock, seasonal goods, meat, dairy, produce, or securities -related  \\nassets or other options).  \\n Other \\nWhere is the property?'"
      ]
     },
     "execution_count": 88,
     "metadata": {},
     "output_type": "execute_result"
    }
   ],
   "source": [
    "response.source_nodes[0].text"
   ]
  },
  {
   "cell_type": "code",
   "execution_count": 81,
   "metadata": {},
   "outputs": [
    {
     "name": "stdout",
     "output_type": "stream",
     "text": [
      "American LegalNet, Inc.  \n",
      "www.FormsWorkFlow.com\n",
      "Official Form 201 Voluntary Petition for Non- Individuals Filing for Bankruptcy  page 1 Fill in this information to identify the case:  \n",
      " Check if this is an \n",
      "amended filing  United States Bankruptcy Court for the:  \n",
      "District of  Delaware  \n",
      "(State) \n",
      "Case number (If known ): Chapter  11 \n",
      "Official Form 201\n",
      "Voluntary Petition for Non -Individuals Filing for Bankruptcy  04/20  \n",
      "If more space  is needed, attach a separate sheet to this form. On the top of any additional pages, write the debtor ’s name and the case \n",
      "number (if known). For more information, a separate document, Instructions for Bankruptcy Forms for Non -Individuals, is available.  \n",
      "1.Debtor ’s name Sequential Brands Group, Inc.  \n",
      "2.All other names debtor used\n",
      "in the last 8 years\n",
      "Include any assumed names,\n",
      "trade names, and doing business\n",
      "as namesSinger  Madeline Holdings, Inc.  \n",
      "3.Debtor ’s federal Employer\n",
      "Identification Number (EIN)4 7 – 4 4 5 2 7 8 9 \n",
      "4.Debtor ’s address Principal place of business  \n",
      "1407 Broadway  \n",
      "Number  Street \n",
      "38th Floor  \n",
      "New York  NY 10018  \n",
      "City State  ZIP Code\n",
      "New York County  \n",
      "County  Mailing address, if different from principal place \n",
      "of business  \n",
      "Number  Street \n",
      "P.O. Box  \n",
      "City State  ZIP Code  \n",
      "Location of principal assets, if different from \n",
      "principal place of business  \n",
      "Number  Street \n",
      "City State  ZIP Code  \n",
      "5.Debtor ’s website (URL) https://www.sequentialbrandsgroup.com/  \n",
      "Case 21-11194-JTD    Doc 1    Filed 08/31/21    Page 1 of 52\n"
     ]
    }
   ],
   "source": [
    "print(response.source_nodes[4].text)"
   ]
  },
  {
   "cell_type": "code",
   "execution_count": null,
   "metadata": {},
   "outputs": [],
   "source": []
  }
 ],
 "metadata": {
  "kernelspec": {
   "display_name": "Python 3",
   "language": "python",
   "name": "python3"
  },
  "language_info": {
   "codemirror_mode": {
    "name": "ipython",
    "version": 3
   },
   "file_extension": ".py",
   "mimetype": "text/x-python",
   "name": "python",
   "nbconvert_exporter": "python",
   "pygments_lexer": "ipython3",
   "version": "3.12.3"
  }
 },
 "nbformat": 4,
 "nbformat_minor": 2
}
