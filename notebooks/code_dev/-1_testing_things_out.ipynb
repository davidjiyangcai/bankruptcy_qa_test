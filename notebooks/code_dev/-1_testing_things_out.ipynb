{
 "cells": [
  {
   "cell_type": "code",
   "execution_count": 1,
   "metadata": {},
   "outputs": [],
   "source": [
    "from define_questions import questions"
   ]
  },
  {
   "cell_type": "code",
   "execution_count": 2,
   "metadata": {},
   "outputs": [],
   "source": [
    "import os\n",
    "import openai\n",
    "\n",
    "import logging\n",
    "import sys\n",
    "from pprint import pprint\n",
    "\n",
    "logging.basicConfig(stream=sys.stdout, level=logging.INFO)\n",
    "\n",
    "from llama_index.core import (\n",
    "    VectorStoreIndex,\n",
    "    SimpleDirectoryReader,\n",
    "    load_index_from_storage,\n",
    "    StorageContext,\n",
    "    ServiceContext,\n",
    "    Document\n",
    ")\n",
    "\n",
    "from llama_index.llms.openai import OpenAI\n",
    "from llama_index.core.node_parser import SentenceWindowNodeParser, HierarchicalNodeParser, get_leaf_nodes\n",
    "from llama_index.core.text_splitter import SentenceSplitter\n",
    "from llama_index.embeddings.openai import OpenAIEmbedding\n",
    "from llama_index.core.schema import MetadataMode\n",
    "from llama_index.core.postprocessor import MetadataReplacementPostProcessor\n",
    "from llama_index.core import Settings\n",
    "openai.api_key = os.environ['OPENAI_API_KEY']\n",
    "\n",
    "from llama_index.core.postprocessor import MetadataReplacementPostProcessor\n",
    "from llama_index.core import get_response_synthesizer\n",
    "from llama_index.core.retrievers import VectorIndexRetriever\n",
    "from llama_index.core.query_engine import RetrieverQueryEngine"
   ]
  },
  {
   "cell_type": "code",
   "execution_count": 3,
   "metadata": {},
   "outputs": [],
   "source": [
    "# list the folder names in data directory\n",
    "data_dir = '../data/bankruptcy_dockets/documents'\n",
    "folders = [f for f in os.listdir(data_dir) if os.path.isdir(os.path.join(data_dir, f))]"
   ]
  },
  {
   "cell_type": "code",
   "execution_count": 5,
   "metadata": {},
   "outputs": [
    {
     "name": "stdout",
     "output_type": "stream",
     "text": [
      "INFO:llama_index.core.indices.loading:Loading all indices.\n"
     ]
    }
   ],
   "source": [
    "stored_index = StorageContext.from_defaults(persist_dir=f\"../data/bankruptcy_dockets/output/persist_{folders[0]}\")\n",
    "retrieved_index = load_index_from_storage(stored_index) "
   ]
  },
  {
   "cell_type": "code",
   "execution_count": 16,
   "metadata": {},
   "outputs": [],
   "source": [
    "def ask_question(question_name,retrieved_index):\n",
    "    Settings.embed_model = OpenAIEmbedding(\n",
    "    model=\"text-embedding-3-large\", embed_batch_size=100\n",
    "    )\n",
    "    llm = OpenAI(model=\"gpt-4o\",temperature=0)\n",
    "    Settings.llm = llm\n",
    "\n",
    "    # configure retriever\n",
    "    retriever = VectorIndexRetriever(\n",
    "        index=retrieved_index,\n",
    "        similarity_top_k=10,\n",
    "        reranker_top_n=5,\n",
    "        with_reranker=True\n",
    "    )\n",
    "    \n",
    "    response_synthesizer = get_response_synthesizer(\n",
    "        response_mode=\"tree_summarize\",\n",
    "        output_cls=questions[question_name]['output_class'],\n",
    "    )\n",
    "\n",
    "    query_engine = RetrieverQueryEngine(\n",
    "        retriever=retriever,\n",
    "        response_synthesizer=response_synthesizer,\n",
    "        node_postprocessors=[\n",
    "        MetadataReplacementPostProcessor(target_metadata_key=\"window\")],\n",
    "    )\n",
    "\n",
    "    def generate_question(item):\n",
    "        varname, description = item\n",
    "        # this function generates the question that we want to ask the model\n",
    "        question_prompt = f\"\"\"\n",
    "        You are a helpful legal assistant.\n",
    "        Given the following variable: {varname}, which is described here: {description}, what is the value of the variable?\n",
    "        \"\"\"\n",
    "        return question_prompt\n",
    "    \n",
    "    response = query_engine.query(generate_question((question_name,questions[question_name]['description'])))\n",
    "    return response\n"
   ]
  },
  {
   "cell_type": "code",
   "execution_count": 17,
   "metadata": {},
   "outputs": [
    {
     "name": "stdout",
     "output_type": "stream",
     "text": [
      "INFO:httpx:HTTP Request: POST https://api.openai.com/v1/embeddings \"HTTP/1.1 200 OK\"\n",
      "INFO:httpx:HTTP Request: POST https://api.openai.com/v1/chat/completions \"HTTP/1.1 200 OK\"\n",
      "{\"val\": \"Armstrong Flooring Inc (2022)\", \"confidence\": \"high\"}\n",
      "INFO:httpx:HTTP Request: POST https://api.openai.com/v1/embeddings \"HTTP/1.1 200 OK\"\n",
      "INFO:httpx:HTTP Request: POST https://api.openai.com/v1/chat/completions \"HTTP/1.1 200 OK\"\n",
      "{\"val\": 517.0, \"confidence\": \"high\"}\n",
      "INFO:httpx:HTTP Request: POST https://api.openai.com/v1/embeddings \"HTTP/1.1 200 OK\"\n",
      "INFO:httpx:HTTP Request: POST https://api.openai.com/v1/chat/completions \"HTTP/1.1 200 OK\"\n",
      "{\"val\": \"Michel S. Vermette\", \"confidence\": \"high\"}\n",
      "INFO:httpx:HTTP Request: POST https://api.openai.com/v1/embeddings \"HTTP/1.1 200 OK\"\n",
      "INFO:httpx:HTTP Request: POST https://api.openai.com/v1/chat/completions \"HTTP/1.1 200 OK\"\n",
      "{\"val\": \"Wilmington\", \"confidence\": \"high\"}\n",
      "INFO:httpx:HTTP Request: POST https://api.openai.com/v1/embeddings \"HTTP/1.1 200 OK\"\n",
      "INFO:httpx:HTTP Request: POST https://api.openai.com/v1/chat/completions \"HTTP/1.1 200 OK\"\n",
      "{\"val\": 55.5, \"confidence\": \"high\"}\n",
      "INFO:httpx:HTTP Request: POST https://api.openai.com/v1/embeddings \"HTTP/1.1 200 OK\"\n",
      "INFO:httpx:HTTP Request: POST https://api.openai.com/v1/chat/completions \"HTTP/1.1 200 OK\"\n",
      "{\"val\": \"Yes\", \"confidence\": \"high\"}\n"
     ]
    }
   ],
   "source": [
    "response_dict = {}\n",
    "for question in list(questions.keys())[:6]:\n",
    "    response = ask_question(question,retrieved_index)\n",
    "    response_dict[question] = response\n",
    "    print(response)"
   ]
  },
  {
   "cell_type": "code",
   "execution_count": null,
   "metadata": {},
   "outputs": [
    {
     "name": "stdout",
     "output_type": "stream",
     "text": [
      "INFO:httpx:HTTP Request: POST https://api.openai.com/v1/embeddings \"HTTP/1.1 200 OK\"\n",
      "HTTP Request: POST https://api.openai.com/v1/embeddings \"HTTP/1.1 200 OK\"\n",
      "INFO:httpx:HTTP Request: POST https://api.openai.com/v1/chat/completions \"HTTP/1.1 200 OK\"\n",
      "HTTP Request: POST https://api.openai.com/v1/chat/completions \"HTTP/1.1 200 OK\"\n"
     ]
    }
   ],
   "source": [
    "response = query_engine.query(generate_question(('AssetsPetition',questions['AssetsPetition']['description'])))"
   ]
  },
  {
   "cell_type": "code",
   "execution_count": 9,
   "metadata": {},
   "outputs": [
    {
     "data": {
      "text/plain": [
       "define_questions.AssetsPetition"
      ]
     },
     "execution_count": 9,
     "metadata": {},
     "output_type": "execute_result"
    }
   ],
   "source": [
    "type(response.response)"
   ]
  },
  {
   "cell_type": "code",
   "execution_count": 10,
   "metadata": {},
   "outputs": [
    {
     "data": {
      "text/plain": [
       "517.0"
      ]
     },
     "execution_count": 10,
     "metadata": {},
     "output_type": "execute_result"
    }
   ],
   "source": [
    "response.response.val"
   ]
  },
  {
   "cell_type": "code",
   "execution_count": 15,
   "metadata": {},
   "outputs": [],
   "source": [
    "from define_rag_function import ask_question, run_rag, questions"
   ]
  },
  {
   "cell_type": "code",
   "execution_count": 2,
   "metadata": {},
   "outputs": [],
   "source": [
    "import os"
   ]
  },
  {
   "cell_type": "code",
   "execution_count": 3,
   "metadata": {},
   "outputs": [],
   "source": [
    "# list the folder names in data directory\n",
    "data_dir = '../data/bankruptcy_dockets/documents'\n",
    "folders = [f for f in os.listdir(data_dir) if os.path.isdir(os.path.join(data_dir, f))]"
   ]
  },
  {
   "cell_type": "code",
   "execution_count": 4,
   "metadata": {},
   "outputs": [],
   "source": [
    "from llama_index.core import Settings\n",
    "from llama_index.embeddings.openai import OpenAIEmbedding"
   ]
  },
  {
   "cell_type": "code",
   "execution_count": 5,
   "metadata": {},
   "outputs": [],
   "source": [
    "Settings.embed_model = OpenAIEmbedding(\n",
    "    model=\"text-embedding-3-large\", embed_batch_size=100\n",
    "    )"
   ]
  },
  {
   "cell_type": "code",
   "execution_count": 17,
   "metadata": {},
   "outputs": [],
   "source": [
    "def retrieve_lopucki_data(folder):\n",
    "    #load locpucki data\n",
    "    locpucki = pd.read_csv('../code/lopucki-db-just-what-we-have.csv')\n",
    "    locpucki = locpucki[questions.keys()]\n",
    "    #map folder name to row name\n",
    "    row_name = mapping[folder]\n",
    "    #retrieve the row\n",
    "    row = locpucki[locpucki['NameCorp'] == row_name]\n",
    "    #return row as a dictionary\n",
    "    return row.to_dict(orient='records')[0]"
   ]
  },
  {
   "cell_type": "code",
   "execution_count": 18,
   "metadata": {},
   "outputs": [],
   "source": [
    "def produce_row(folder):\n",
    "    #load lopucki dataset\n",
    "    locpucki_data = retrieve_lopucki_data(folder)\n",
    "\n",
    "    #run rag system\n",
    "    rag_data = run_rag(folder)\n",
    "\n",
    "    #combine the two dictionaries\n",
    "    combined_dict = {**locpucki_data, **rag_data}\n",
    "\n",
    "    return combined_dict"
   ]
  },
  {
   "cell_type": "code",
   "execution_count": null,
   "metadata": {},
   "outputs": [],
   "source": [
    "# save results to a csv\n",
    "results_df = pd.DataFrame(results)"
   ]
  }
 ],
 "metadata": {
  "kernelspec": {
   "display_name": "Python 3",
   "language": "python",
   "name": "python3"
  },
  "language_info": {
   "codemirror_mode": {
    "name": "ipython",
    "version": 3
   },
   "file_extension": ".py",
   "mimetype": "text/x-python",
   "name": "python",
   "nbconvert_exporter": "python",
   "pygments_lexer": "ipython3",
   "version": "3.12.3"
  }
 },
 "nbformat": 4,
 "nbformat_minor": 2
}
