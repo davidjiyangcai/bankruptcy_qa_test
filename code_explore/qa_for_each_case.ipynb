{
 "cells": [
  {
   "cell_type": "code",
   "execution_count": 39,
   "metadata": {},
   "outputs": [],
   "source": [
    "import os\n",
    "import openai\n",
    "\n",
    "import logging\n",
    "import sys\n",
    "from pprint import pprint\n",
    "\n",
    "logging.basicConfig(stream=sys.stdout, level=logging.INFO)\n",
    "logging.getLogger().addHandler(logging.StreamHandler(stream=sys.stdout))\n",
    "\n",
    "from llama_index.core import (\n",
    "    VectorStoreIndex,\n",
    "    SimpleDirectoryReader,\n",
    "    load_index_from_storage,\n",
    "    StorageContext,\n",
    "    ServiceContext,\n",
    "    Document\n",
    ")\n",
    "\n",
    "from llama_index.llms.openai import OpenAI\n",
    "from llama_index.core.node_parser import SentenceWindowNodeParser, HierarchicalNodeParser, get_leaf_nodes\n",
    "from llama_index.core.text_splitter import SentenceSplitter\n",
    "from llama_index.embeddings.openai import OpenAIEmbedding\n",
    "from llama_index.core.schema import MetadataMode\n",
    "from llama_index.core.postprocessor import MetadataReplacementPostProcessor\n",
    "from llama_index.core import Settings\n",
    "openai.api_key = os.environ['OPENAI_API_KEY']\n",
    "\n",
    "from llama_index.core.postprocessor import MetadataReplacementPostProcessor\n",
    "from llama_index.core import get_response_synthesizer\n",
    "from llama_index.core.retrievers import VectorIndexRetriever\n",
    "from llama_index.core.query_engine import RetrieverQueryEngine"
   ]
  },
  {
   "cell_type": "code",
   "execution_count": 40,
   "metadata": {},
   "outputs": [],
   "source": [
    "import pandas as pd"
   ]
  },
  {
   "cell_type": "code",
   "execution_count": 41,
   "metadata": {},
   "outputs": [],
   "source": [
    "# list the folder names in data directory\n",
    "data_dir = '../data/bankruptcy_dockets/documents'\n",
    "folders = [f for f in os.listdir(data_dir) if os.path.isdir(os.path.join(data_dir, f))]"
   ]
  },
  {
   "cell_type": "code",
   "execution_count": 42,
   "metadata": {},
   "outputs": [],
   "source": [
    "from docnametorowname import mapping\n",
    "from question import questions"
   ]
  },
  {
   "cell_type": "code",
   "execution_count": 46,
   "metadata": {},
   "outputs": [],
   "source": [
    "def retrieve_lopucki_data(folder):\n",
    "    #load locpucki data\n",
    "    locpucki = pd.read_csv('../code/lopucki-db-just-what-we-have.csv')\n",
    "    locpucki = locpucki[questions.keys()]\n",
    "    #map folder name to row name\n",
    "    row_name = mapping[folder]\n",
    "    #retrieve the row\n",
    "    row = locpucki[locpucki['NameCorp'] == row_name]\n",
    "    #return row as a dictionary\n",
    "    return row.to_dict(orient='records')[0]\n",
    "\n",
    "def run_rag_system(folder):\n",
    "    # load PDFs\n",
    "    documents = SimpleDirectoryReader(f\"../data/bankruptcy_dockets/documents/{folder}\").load_data()\n",
    "    # split into nodes\n",
    "    sentence_node_parser = SentenceSplitter(\n",
    "    chunk_size=512,\n",
    "    chunk_overlap=20,\n",
    "    )\n",
    "    nodes = sentence_node_parser.get_nodes_from_documents(documents)\n",
    "    Settings.embed_model = OpenAIEmbedding(\n",
    "    model=\"text-embedding-3-large\", embed_batch_size=100\n",
    "    )\n",
    "    index = VectorStoreIndex(nodes)\n",
    "\n",
    "    # create a folder to store the embeddings and output\n",
    "    os.makedirs(f\"../data/bankruptcy_dockets/output/persist_{folder}\",\n",
    "    exist_ok=True)\n",
    "    # store the index and embeddings\n",
    "    #index.storage_context.persist(persist_dir=f\"../data/bankruptcy_dockets/output/persist_{folder}\")\n",
    "    #load stored index\n",
    "    stored_index = StorageContext.from_defaults(persist_dir=f\"../data/bankruptcy_dockets/output/persist_{folder}\")\n",
    "    retrieved_index = load_index_from_storage(stored_index)\n",
    "\n",
    "    sentence_query_engine = retrieved_index.as_query_engine(\n",
    "        similarity_top_k=5,\n",
    "        verbose=True\n",
    "    )\n",
    "\n",
    "    llm = OpenAI(model=\"gpt-4o\")\n",
    "    Settings.llm = llm\n",
    "\n",
    "    # configure retriever\n",
    "    retriever = VectorIndexRetriever(\n",
    "        index=retrieved_index,\n",
    "        similarity_top_k=5,\n",
    "    )\n",
    "    \n",
    "    # configure response synthesizer\n",
    "    response_synthesizer = get_response_synthesizer(\n",
    "        response_mode=\"compact\",\n",
    "    )\n",
    "    \n",
    "    # assemble query engine\n",
    "    query_engine = RetrieverQueryEngine(\n",
    "        retriever=retriever,\n",
    "        response_synthesizer=response_synthesizer,\n",
    "    )\n",
    "\n",
    "    def generate_question(item):\n",
    "        varname,description = item\n",
    "        # this function generates the question that we want to ask the model\n",
    "        question_prompt = f\"\"\"\n",
    "        You are a helpful legal assistant.\n",
    "        Given the following variable: {varname}, which is described here: {description}, what is the value of the variable?\n",
    "        \"\"\"\n",
    "        return question_prompt\n",
    "    \n",
    "    response_dict = {}\n",
    "    for question in questions.items():\n",
    "        response = query_engine.query(generate_question(question))\n",
    "        response_dict[question[0]+'_response'] = response\n",
    "        response_dict[question[0]+'_RAG'] = response.response\n",
    "        for i,source_node in enumerate(response.source_nodes):\n",
    "            response_dict[question[0]+f'_source_{i}'] = source_node.text\n",
    "    \n",
    "    return response_dict    \n"
   ]
  },
  {
   "cell_type": "code",
   "execution_count": 47,
   "metadata": {},
   "outputs": [],
   "source": [
    "def produce_row(folder):\n",
    "    #load lopucki dataset\n",
    "    locpucki_data = retrieve_lopucki_data(folder)\n",
    "\n",
    "    #run rag system\n",
    "    rag_data = run_rag_system(folder)\n",
    "\n",
    "    #combine the two dictionaries\n",
    "    combined_dict = {**locpucki_data, **rag_data}\n",
    "\n",
    "    return combined_dict"
   ]
  },
  {
   "cell_type": "code",
   "execution_count": null,
   "metadata": {},
   "outputs": [],
   "source": [
    "results = [produce_row(folder) for folder in folders]"
   ]
  },
  {
   "cell_type": "code",
   "execution_count": null,
   "metadata": {},
   "outputs": [],
   "source": [
    "# save results to a csv\n",
    "results_df = pd.DataFrame(results)"
   ]
  },
  {
   "cell_type": "code",
   "execution_count": null,
   "metadata": {},
   "outputs": [],
   "source": [
    "columns_sorted = list(results_df.columns)\n",
    "columns_sorted.sort()"
   ]
  },
  {
   "cell_type": "code",
   "execution_count": null,
   "metadata": {},
   "outputs": [],
   "source": [
    "results_df = results_df[columns_sorted]"
   ]
  },
  {
   "cell_type": "code",
   "execution_count": null,
   "metadata": {},
   "outputs": [],
   "source": [
    "results_df.to_csv('../data/bankruptcy_dockets/output/results_compact.csv', index=False)"
   ]
  },
  {
   "cell_type": "markdown",
   "metadata": {},
   "source": [
    "DEFAULT_TEXT_QA_PROMPT_TMPL = (\n",
    "    \"Context information is below.\\n\"\n",
    "    \"---------------------\\n\"\n",
    "    \"{context_str}\\n\"\n",
    "    \"---------------------\\n\"\n",
    "    \"Given the context information and not prior knowledge, \"\n",
    "    \"answer the query.\\n\"\n",
    "    \"Query: {query_str}\\n\"\n",
    "    \"Answer: \"\n",
    ")"
   ]
  },
  {
   "cell_type": "code",
   "execution_count": null,
   "metadata": {},
   "outputs": [],
   "source": []
  },
  {
   "cell_type": "markdown",
   "metadata": {},
   "source": [
    "DEFAULT_REFINE_PROMPT_TMPL = (\n",
    "    \"The original query is as follows: {query_str}\\n\"\n",
    "    \"We have provided an existing answer: {existing_answer}\\n\"\n",
    "    \"We have the opportunity to refine the existing answer \"\n",
    "    \"(only if needed) with some more context below.\\n\"\n",
    "    \"------------\\n\"\n",
    "    \"{context_msg}\\n\"\n",
    "    \"------------\\n\"\n",
    "    \"Given the new context, refine the original answer to better \"\n",
    "    \"answer the query. \"\n",
    "    \"If the context isn't useful, return the original answer.\\n\"\n",
    "    \"Refined Answer: \"\n",
    ")"
   ]
  },
  {
   "cell_type": "markdown",
   "metadata": {},
   "source": [
    "https://www.bluelabellabs.com/blog/llamaindex-response-modes-explained/"
   ]
  }
 ],
 "metadata": {
  "kernelspec": {
   "display_name": "Python 3",
   "language": "python",
   "name": "python3"
  },
  "language_info": {
   "codemirror_mode": {
    "name": "ipython",
    "version": 3
   },
   "file_extension": ".py",
   "mimetype": "text/x-python",
   "name": "python",
   "nbconvert_exporter": "python",
   "pygments_lexer": "ipython3",
   "version": "3.12.3"
  }
 },
 "nbformat": 4,
 "nbformat_minor": 2
}
